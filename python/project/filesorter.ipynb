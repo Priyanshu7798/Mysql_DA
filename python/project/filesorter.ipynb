{
 "cells": [
  {
   "cell_type": "markdown",
   "id": "91e6b019-7c2f-42b5-9a54-3af40bf7dbea",
   "metadata": {},
   "source": [
    "# AutoMatic File Sorter"
   ]
  },
  {
   "cell_type": "code",
   "execution_count": 1,
   "id": "5737a7a1-2947-4070-9974-7d19a65c9c20",
   "metadata": {},
   "outputs": [],
   "source": [
    "import os , shutil"
   ]
  },
  {
   "cell_type": "code",
   "execution_count": 5,
   "id": "9ecfc647-decc-4ec3-bbbc-336dc905a5ba",
   "metadata": {},
   "outputs": [],
   "source": [
    "path = r\"C:/Users/priya/Desktop/ews keshav/\""
   ]
  },
  {
   "cell_type": "code",
   "execution_count": 10,
   "id": "45e4b52c-a907-401b-9000-763873a5635b",
   "metadata": {},
   "outputs": [],
   "source": [
    "file_name = os.listdir(path)"
   ]
  },
  {
   "cell_type": "code",
   "execution_count": 7,
   "id": "51b19456-6406-4845-8b61-5df5af9e89be",
   "metadata": {},
   "outputs": [
    {
     "name": "stdout",
     "output_type": "stream",
     "text": [
      "C:/Users/priya/Desktop/ews keshav/pdf files\n",
      "C:/Users/priya/Desktop/ews keshav/css files\n",
      "C:/Users/priya/Desktop/ews keshav/html files\n",
      "C:/Users/priya/Desktop/ews keshav/image files\n"
     ]
    }
   ],
   "source": [
    "folder_names = ['pdf files' , 'css files','html files' , 'image files']\n",
    "\n",
    "for i in range(0,4):\n",
    "    if not os.path.exists(path + folder_names[i]):\n",
    "        print(path + folder_names[i])\n",
    "        os.makedirs(path + folder_names[i])"
   ]
  },
  {
   "cell_type": "code",
   "execution_count": 14,
   "id": "b9db05e2-2bd0-4cba-8fd4-1beaa07cdc7c",
   "metadata": {},
   "outputs": [],
   "source": [
    "for file in file_name:\n",
    "    if '.pdf' in file and not os.path.exists(path + 'pdf files/' + file):\n",
    "        shutil.move(path + file,path + 'pdf files/' + file)\n",
    "    elif ('.jpg' in file or '.png' in file or '.jpeg' in file) and not os.path.exists(path + 'image files/' + file):\n",
    "        shutil.move(path + file,path + 'image files/' + file)\n",
    "    elif '.css' in file and not os.path.exists(path + 'css files/' + file):\n",
    "        shutil.move(path + file,path + 'css files/' + file)\n",
    "    elif '.html' in file and not os.path.exists(path + 'html files/' + file):\n",
    "        shutil.move(path + file,path + 'html files/' + file)"
   ]
  },
  {
   "cell_type": "code",
   "execution_count": null,
   "id": "ea9a0b96-0fb8-46b5-ab75-07e0f9c07694",
   "metadata": {},
   "outputs": [],
   "source": []
  }
 ],
 "metadata": {
  "kernelspec": {
   "display_name": "Python 3 (ipykernel)",
   "language": "python",
   "name": "python3"
  },
  "language_info": {
   "codemirror_mode": {
    "name": "ipython",
    "version": 3
   },
   "file_extension": ".py",
   "mimetype": "text/x-python",
   "name": "python",
   "nbconvert_exporter": "python",
   "pygments_lexer": "ipython3",
   "version": "3.13.5"
  }
 },
 "nbformat": 4,
 "nbformat_minor": 5
}
