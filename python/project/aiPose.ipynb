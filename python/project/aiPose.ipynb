{
 "cells": [
  {
   "cell_type": "markdown",
   "id": "e0b2d057-98f7-4923-a19e-87fe730117dc",
   "metadata": {},
   "source": [
    "# Yoga Pose Detection"
   ]
  },
  {
   "cell_type": "code",
   "execution_count": 4,
   "id": "3684fd1a-e7d3-4daf-9db0-1f4000393b0a",
   "metadata": {},
   "outputs": [
    {
     "name": "stderr",
     "output_type": "stream",
     "text": [
      "ERROR: Could not find a version that satisfies the requirement mediapipe (from versions: none)\n",
      "ERROR: No matching distribution found for mediapipe\n"
     ]
    }
   ],
   "source": [
    "!pip install mediapipe opencv-python"
   ]
  },
  {
   "cell_type": "code",
   "execution_count": null,
   "id": "bfcf65f4-fe6e-46d7-af64-7298f0f04129",
   "metadata": {},
   "outputs": [],
   "source": []
  }
 ],
 "metadata": {
  "kernelspec": {
   "display_name": "Python 3 (ipykernel)",
   "language": "python",
   "name": "python3"
  },
  "language_info": {
   "codemirror_mode": {
    "name": "ipython",
    "version": 3
   },
   "file_extension": ".py",
   "mimetype": "text/x-python",
   "name": "python",
   "nbconvert_exporter": "python",
   "pygments_lexer": "ipython3",
   "version": "3.13.5"
  }
 },
 "nbformat": 4,
 "nbformat_minor": 5
}
